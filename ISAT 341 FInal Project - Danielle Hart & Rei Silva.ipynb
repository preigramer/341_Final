{
 "cells": [
  {
   "cell_type": "markdown",
   "metadata": {},
   "source": [
    "<html>\n",
    "<body>\n",
    "\n",
    "<h1 style=\"color:blue;\" align=\"center\">ISAT 341: Machine Learning and Data Science</h1>\n",
    "<h2 style=\"color:red;\" align=\"center\"> Final Exam Project: Machine Learning Confidential Sensor Data</h2>\n",
    "</body>\n",
    "</html> \n",
    "\n",
    "<img src=\"images/machine_learning.jpg\" width=\"240\" height=\"240\" align=\"center\"/>'\n",
    "\n",
    "<h2 style=\"color:red;\" align=\"center\"> Working with real-world datasets</h2>\n",
    "<h3 style=\"color:purple;\" align=\"center\"> By: Danielle Hart and Rei Silva</h3>\n"
   ]
  },
  {
   "cell_type": "markdown",
   "metadata": {},
   "source": [
    "## Objectives"
   ]
  },
  {
   "cell_type": "markdown",
   "metadata": {},
   "source": [
    "<p style=\"color:black;\">To demonstrate the ability to complete an end-to-end data science/ machine learning project using real-world data by following and implementing the main mavchine learning checklist steps that lead to a solution, namely:</p>\n",
    "\n",
    "<ul>\n",
    "  <li>Frame the problem and look at the big picture</li>\n",
    "  <li>Get the data.</li>\n",
    "  <li>Explore the data to gain insights</li>\n",
    "  <li>Prepare the data to expose the underlying data patterns to Machine Learning algorithms</li>\n",
    "  <li>Explore many different models and short-list the best ones.</li>\n",
    "  <li>Fine-tune your models and combine them into a great solution</li>\n",
    "  <li>Present your solution</li>\n",
    "  <li>Launch, monitor, and maintain your system</li>\n",
    "</ul>  "
   ]
  },
  {
   "cell_type": "markdown",
   "metadata": {},
   "source": [
    "<h2 style=\"color:purple;\"> Frame the Problem </h2>\n"
   ]
  },
  {
   "cell_type": "markdown",
   "metadata": {},
   "source": [
    "<img src=\"images/sensor_array.jpg\" width=\"240\" height=\"240\" align=\"center\"/>'"
   ]
  },
  {
   "cell_type": "markdown",
   "metadata": {},
   "source": [
    "## Sensor Data"
   ]
  },
  {
   "cell_type": "markdown",
   "metadata": {},
   "source": [
    "<p style=\"color:black;\">The data source as well as the exact nature of the data is confidential. Each data instance contains 12 real-valued input attribures. Each input attribute represents a sensor designed to detect the presence of one of two groupsof substances. As an alternative, the sensor readings may represent a 'false alarm'</p>\n",
    "\n",
    "<ul>\n",
    "  <li>Substance 1 is represented by the value'one' in the dlass attribute column</li>\n",
    "  <li>Substance 2 is represented by the value 'two' in the class attribute column.</li>\n",
    "  <li>A false alarm is represented by the value 'three' in the class attribute column</li>\n",
    "</ul>  \n",
    "\n",
    "<p style=\"color:black;\">The problem is framed as a <bold> supervised learning </bold> problem: Predict the class of a substance from sensor data using the given measurements in the dataset</p>"
   ]
  },
  {
   "cell_type": "markdown",
   "metadata": {},
   "source": [
    "<h2 style=\"color:purple;\" align=\"center\"> Projedct Analysis Starts Here!</h2>"
   ]
  },
  {
   "cell_type": "code",
   "execution_count": 4,
   "metadata": {},
   "outputs": [],
   "source": [
    "#import packages\n",
    "%matplotlib inline\n",
    "import matplotlib.pyplot as plt\n",
    "import numpy as np\n",
    "import pandas as pd\n",
    "np.set_printoptions(precision=3, suppress=True)"
   ]
  },
  {
   "cell_type": "markdown",
   "metadata": {},
   "source": [
    "<h2 style=\"color:green;\"> Exploratory Data Analysis</h2>"
   ]
  },
  {
   "cell_type": "markdown",
   "metadata": {},
   "source": [
    "## 1) TO DO: Use Pandas to load your data into a data frame"
   ]
  },
  {
   "cell_type": "markdown",
   "metadata": {},
   "source": [
    "<p> Display the first ten rows after you load the data </p>"
   ]
  },
  {
   "cell_type": "code",
   "execution_count": null,
   "metadata": {},
   "outputs": [],
   "source": []
  },
  {
   "cell_type": "markdown",
   "metadata": {},
   "source": [
    "## 2) TO DO: Use the dataframe describe method dataframe.describe() to display some summary statistics"
   ]
  },
  {
   "cell_type": "code",
   "execution_count": null,
   "metadata": {},
   "outputs": [],
   "source": []
  },
  {
   "cell_type": "markdown",
   "metadata": {},
   "source": [
    "<h2 style=\"color:purple;\"> Comments on above summary of data</h2>"
   ]
  },
  {
   "cell_type": "markdown",
   "metadata": {},
   "source": [
    "###### Examine the data and note that when a sensor temporarily goes offline, it recordsa a BAD data value of -9999. This can be seen in the minium recorded values for each sensor. Before we continue our preliminary data analysis, this bad data must be removed.\n",
    "\n",
    "<p style=\"color:black;\">You should also take note of the count, mean, standard deviation and the maximum data values for each sensor. The bad data value recordings when the sensors go offline have a large impact on these simple descriptive statistical summaries. Also, the wide range of the data values will require some sort of scaling of the data before training a machine learning model.</p>\n",
    "\n",
    "<p style=\"color:black;\">Finally, the class labels are not numeric but are strings ('one', 'two' and 'three') that we call categorical class labels. We will need to convert them to integers beforee we feed them to a classifier</p>\n",
    "\n"
   ]
  },
  {
   "cell_type": "markdown",
   "metadata": {},
   "source": [
    "<h2 style=\"color:green;\">Data Cleansing</h2>"
   ]
  },
  {
   "cell_type": "markdown",
   "metadata": {},
   "source": [
    "## 2) TO DO: Display the shape of your dataframe data in the cell below"
   ]
  },
  {
   "cell_type": "code",
   "execution_count": null,
   "metadata": {},
   "outputs": [],
   "source": []
  },
  {
   "cell_type": "markdown",
   "metadata": {},
   "source": [
    "## 3) TO DO: Display the shape of your dataframe data in the cell below"
   ]
  },
  {
   "cell_type": "code",
   "execution_count": null,
   "metadata": {},
   "outputs": [],
   "source": []
  },
  {
   "cell_type": "markdown",
   "metadata": {},
   "source": [
    "## 4) TO DO: Use Pandas dataframe to find bad or missing data"
   ]
  },
  {
   "cell_type": "markdown",
   "metadata": {},
   "source": [
    "<p style=\"color:black;\">The bad data can be located and replaced using pandas and numpy. In the cell below, use code to find and reeplace the bad data (-9999 values) with numpy nan values (nanmeans not a number). Then use the dataframe to drop the rows with the nan signatures. This may significantly reduce your dataset size so you should dispay the shape of the data to see its new size. Also, again, display the first ten rows of the data with the dataframe </p>\n",
    "\n",
    "<ul>\n",
    "  <li>Enter your code in the cell below to implement the drop, replace and display</li>\n",
    "  <li>Enter your code in the cell immediately following the output of the data frame display to show the new shape of the data in the dataframe</li>\n",
    "</ul>  \n"
   ]
  },
  {
   "cell_type": "code",
   "execution_count": null,
   "metadata": {},
   "outputs": [],
   "source": []
  },
  {
   "cell_type": "code",
   "execution_count": null,
   "metadata": {},
   "outputs": [],
   "source": [
    "# shape of data in dataframe after cleansing"
   ]
  },
  {
   "cell_type": "markdown",
   "metadata": {},
   "source": [
    "## 5) TO DO : Use pandas correlation method to find the two featuers (inputs) with the highest correlation "
   ]
  },
  {
   "cell_type": "markdown",
   "metadata": {},
   "source": [
    "#### Enter your answers in the cell immediately following the output correlation table"
   ]
  },
  {
   "cell_type": "code",
   "execution_count": null,
   "metadata": {},
   "outputs": [],
   "source": []
  },
  {
   "cell_type": "markdown",
   "metadata": {},
   "source": [
    "#### Your Answer:"
   ]
  },
  {
   "cell_type": "markdown",
   "metadata": {},
   "source": [
    "<h2 style=\"color:green;\">Data Visualization</h2>"
   ]
  },
  {
   "cell_type": "markdown",
   "metadata": {},
   "source": [
    "## 6) TO DO: Plot bar charts using pandas dataframe(plot the mean value of the sensors)"
   ]
  },
  {
   "cell_type": "code",
   "execution_count": null,
   "metadata": {},
   "outputs": [],
   "source": []
  },
  {
   "cell_type": "markdown",
   "metadata": {},
   "source": [
    "<h2 style=\"color:green;\">Data Preprocessing</h2>"
   ]
  },
  {
   "cell_type": "markdown",
   "metadata": {},
   "source": [
    "## 7) TO DO: Create Feature Matrix and Target Vector\n",
    "#### \"Features are also known as predictors, inputs or attributs. The \"response\" is also known as the target, label, or output"
   ]
  },
  {
   "cell_type": "markdown",
   "metadata": {},
   "source": [
    "<h3 style=\"color:gold;\">complete in cell below</h3>"
   ]
  },
  {
   "cell_type": "code",
   "execution_count": null,
   "metadata": {},
   "outputs": [],
   "source": []
  },
  {
   "cell_type": "markdown",
   "metadata": {},
   "source": [
    "## 8) TO DO: Convert the features dataframe to a numpy array\n",
    "<h3 style=\"color:gold;\">complete in cell below</h3>"
   ]
  },
  {
   "cell_type": "code",
   "execution_count": null,
   "metadata": {},
   "outputs": [],
   "source": []
  },
  {
   "cell_type": "markdown",
   "metadata": {},
   "source": [
    "## 9) TO DO: Label Encoding\n",
    "\n",
    "<p> Transform the categorical labels into integers using the scikit-learn label encoder </p>\n",
    "\n",
    "#### Enter your code in the cell below"
   ]
  },
  {
   "cell_type": "code",
   "execution_count": null,
   "metadata": {},
   "outputs": [],
   "source": []
  },
  {
   "cell_type": "markdown",
   "metadata": {},
   "source": [
    "## 10) TO DO: Split the data into Training and Testing Sets\n",
    "\n",
    "<p> Scikit learn contains a function called the train_test_split function that will randomly shuffle the dataset and then splits it into two datasets: a training set used to build the model and a test set to assess and evaluate how well the model works on unseen data ( also called out-of = sample data)</p>"
   ]
  },
  {
   "cell_type": "markdown",
   "metadata": {},
   "source": [
    "#### Use a 80% / 20% train/test split for this project"
   ]
  },
  {
   "cell_type": "markdown",
   "metadata": {},
   "source": [
    "<p> NOTE: You must use the encoded class labels in this part </p> "
   ]
  },
  {
   "cell_type": "markdown",
   "metadata": {},
   "source": [
    "#### Enter your code in the cell below "
   ]
  },
  {
   "cell_type": "code",
   "execution_count": null,
   "metadata": {},
   "outputs": [],
   "source": []
  },
  {
   "cell_type": "markdown",
   "metadata": {},
   "source": [
    "## 11) TO DO: Look at the shape of the data (rows and columns) after splitting it into training and testing sets "
   ]
  },
  {
   "cell_type": "markdown",
   "metadata": {},
   "source": [
    "#### Enter your code in the next TWO cells below"
   ]
  },
  {
   "cell_type": "code",
   "execution_count": null,
   "metadata": {},
   "outputs": [],
   "source": []
  },
  {
   "cell_type": "code",
   "execution_count": null,
   "metadata": {},
   "outputs": [],
   "source": []
  },
  {
   "cell_type": "markdown",
   "metadata": {},
   "source": [
    "<h2 style=\"color:green;\">Scale the Data</h2>"
   ]
  },
  {
   "cell_type": "markdown",
   "metadata": {},
   "source": [
    "<h3 style=\"color:red;\">IMPORTANT: Standardizing the features:</h3>"
   ]
  },
  {
   "cell_type": "markdown",
   "metadata": {},
   "source": [
    "<p> Standardization of datasets (feature scaling) is common requirement for many machine learning and optimizatin algorithms implemented in sciki-learn; they might behave baldy if the individiual features do not more or less look like standard normally distributed data, i.e., Gaussian with zero mean and unit variance. </p>"
   ]
  },
  {
   "cell_type": "markdown",
   "metadata": {},
   "source": [
    "## 12) TO DO: Let's use the StandarScaler from Scikit-learn to transform (scale) our feature"
   ]
  },
  {
   "cell_type": "markdown",
   "metadata": {},
   "source": [
    "#### Enter your code in the cell below"
   ]
  },
  {
   "cell_type": "code",
   "execution_count": null,
   "metadata": {},
   "outputs": [],
   "source": []
  },
  {
   "cell_type": "markdown",
   "metadata": {},
   "source": [
    "#### A comment on what the above code does "
   ]
  },
  {
   "cell_type": "markdown",
   "metadata": {},
   "source": [
    "<ul>\n",
    "    <li> Using the preceding code, we loaded the StandardScaler class from the preprocessing module and initialized a new StandardScaler object that we assigned to the variable sc. </li>\n",
    "    <li> Using the fit method, StandardScaler estimated the parameters (mu) (sample mean) and sigma (standard deviation) for each feature dimension from the training data </li>\n",
    "    <li> By calling the transform method, we then stadardized the training data using those estimated parameters mu and s\n",
    "</ul>"
   ]
  },
  {
   "cell_type": "markdown",
   "metadata": {},
   "source": [
    "#### IMPORTANT : So from this point forward you must usee the scaled training and testing data"
   ]
  },
  {
   "cell_type": "markdown",
   "metadata": {},
   "source": [
    "<h2 style=\"color:green;\">Model Building</h2>"
   ]
  },
  {
   "cell_type": "markdown",
   "metadata": {},
   "source": [
    "### Train multiple Machine Learning models during same session. You will use the three algorithms from previous labs."
   ]
  },
  {
   "cell_type": "markdown",
   "metadata": {},
   "source": [
    "<ol>\n",
    "  <li>K-Nearest Neighbor (with K=10, K=50, K=200) </li>\n",
    "  <li>Logistic Regression</li>\n",
    "  <li>Linear Support Vector Classifer</li>\n",
    "</ol> \n"
   ]
  },
  {
   "cell_type": "markdown",
   "metadata": {},
   "source": [
    "<p> During the evaluation phase you must predict class member propbabilities and comment on what they mean.This means that scikit-learn’s linear support vector classifier cannot beused for those prodictions since this model does not have a method to predict class membership probabilities, but like the other models, it does have the same predict method.</p>"
   ]
  },
  {
   "cell_type": "markdown",
   "metadata": {},
   "source": [
    "<ul>\n",
    "    <li> You MUST properly use model evaluation metrics (accuracy, confusion matrix, etc.) </li>\n",
    "    <li> Two of your models (KNN and Logistic Regression MUST predict class membership probabilities and associated class label names </li>\n",
    "    \n",
    "</ul>"
   ]
  },
  {
   "cell_type": "markdown",
   "metadata": {},
   "source": [
    "<h2 style=\"color:green;\">Build a KNN Classification Model for K = 10, 50 and 200 </h2>"
   ]
  },
  {
   "cell_type": "markdown",
   "metadata": {},
   "source": [
    "## 13) TO DO: In the sections below you should build and train the actual machine learning model."
   ]
  },
  {
   "cell_type": "markdown",
   "metadata": {},
   "source": [
    "#### In the cell below: enter the code to import, instantiate, fit, predict and test the model's performance (accuracy) for the K-Nearest Neighbor Model in SciKit-Learn for K= 10,50 and 200.This should be completed in ONE cell using a loop, etc."
   ]
  },
  {
   "cell_type": "code",
   "execution_count": null,
   "metadata": {},
   "outputs": [],
   "source": []
  },
  {
   "cell_type": "markdown",
   "metadata": {},
   "source": [
    "## Predicting class-membership probabilities"
   ]
  },
  {
   "cell_type": "markdown",
   "metadata": {},
   "source": [
    "<p> Scikit-Learn has a method that allows prediction of class member probabilities. </p>"
   ]
  },
  {
   "cell_type": "markdown",
   "metadata": {},
   "source": [
    "<ul>\n",
    "    <li> The probability that training examples belong to a certain class can be computed using the predict_proba method. For example, we can predict the probabilities of the first threesamples in the test set as follows (NOTE: X_test_std[:3. :] means get the first 3 rows and the associated columns from the test dataset X_test): </li>\n",
    "\n",
    "<ul>"
   ]
  },
  {
   "cell_type": "markdown",
   "metadata": {},
   "source": [
    "<h3 align=\"center\"> classifier.predict_proba(X_test_std[:3, :]) where classifier is either K-NN or Logistic Regression </h3>"
   ]
  },
  {
   "cell_type": "markdown",
   "metadata": {},
   "source": [
    "<p> In the cells below, your must predict the class-membership probabilities for each specified SINGLE ROW OF DATA </p>\n",
    "\n",
    "<p> Also, you should recall that the label encoding that we implemented earlier resulted in the mapping: </p>"
   ]
  },
  {
   "cell_type": "markdown",
   "metadata": {},
   "source": [
    "#### class membership label indices after encoding\n",
    "<ul>\n",
    "    <li> 0 = 'one' (the Substance is Substance 1) </li>\n",
    "    <li> 1 = 'three' (false alarm) </li>\n",
    "    <li> 2 = 'two' (The Substance is Substance 2) </li>\n",
    "</ul>"
   ]
  },
  {
   "cell_type": "markdown",
   "metadata": {},
   "source": [
    "## 14) TO DO:class-membership probability"
   ]
  },
  {
   "cell_type": "markdown",
   "metadata": {},
   "source": [
    "<p> Predict the class membership probability by using the a row with index = 10 from the X_test_std data. Make sure your print statement uses a complete sentence and be sure tocompare your prediction with the correct answer using the corresponding row from the test set labels, y_test. </p>"
   ]
  },
  {
   "cell_type": "markdown",
   "metadata": {},
   "source": [
    "#### Enter your code in the cell below"
   ]
  },
  {
   "cell_type": "code",
   "execution_count": null,
   "metadata": {},
   "outputs": [],
   "source": []
  },
  {
   "cell_type": "markdown",
   "metadata": {},
   "source": [
    "## 15) TO DO:class-membership probability"
   ]
  },
  {
   "cell_type": "markdown",
   "metadata": {},
   "source": [
    "<p>Predict the class membership probability by using the a row with index = 125 from the X_test_std data. Make sure your print statement uses a complete sentence and be sure tocompare your prediction with the correct answer using the corresponding row from the test set labels, y_test.Enter your code in the cell below.</p>"
   ]
  },
  {
   "cell_type": "markdown",
   "metadata": {},
   "source": [
    "#### Enter your code in the cell below"
   ]
  },
  {
   "cell_type": "code",
   "execution_count": null,
   "metadata": {},
   "outputs": [],
   "source": []
  },
  {
   "cell_type": "markdown",
   "metadata": {},
   "source": [
    "## 16) TO DO:class-membership probability"
   ]
  },
  {
   "cell_type": "markdown",
   "metadata": {},
   "source": [
    "<p> Predict the class membership probability by using the a row with index = 200 from the X_test_std data. Make sure your print statement uses a complete sentence and be sure tocompare your prediction with the correct answer using the corresponding row from the test set labels, y_test. </p>"
   ]
  },
  {
   "cell_type": "markdown",
   "metadata": {},
   "source": [
    "#### Enter your code in the cell below"
   ]
  },
  {
   "cell_type": "code",
   "execution_count": null,
   "metadata": {},
   "outputs": [],
   "source": []
  },
  {
   "cell_type": "markdown",
   "metadata": {},
   "source": [
    "<h2 style=\"color:green;\">Building Logistic Regression Model</h2>"
   ]
  },
  {
   "cell_type": "markdown",
   "metadata": {},
   "source": [
    "## 17) TO DO: scikit-learn Logistic Regression for this lab"
   ]
  },
  {
   "cell_type": "markdown",
   "metadata": {},
   "source": [
    "#### Import and instantiate the Logistic Regression Model in SciKit-Learn is in the cell below"
   ]
  },
  {
   "cell_type": "markdown",
   "metadata": {},
   "source": []
  },
  {
   "cell_type": "markdown",
   "metadata": {},
   "source": [
    "## 18) TO DO: Train the model by calling the model's fit function"
   ]
  },
  {
   "cell_type": "markdown",
   "metadata": {},
   "source": [
    "<p> Now that the model has been instantiated (created) it still needs to be trained (fitted) to the training dataset. Enter your code below to fit the model to the training dataset </p>"
   ]
  },
  {
   "cell_type": "code",
   "execution_count": null,
   "metadata": {},
   "outputs": [],
   "source": []
  },
  {
   "cell_type": "markdown",
   "metadata": {},
   "source": [
    "## 19) TO DO: Evaluate the Logistic Regression Model"
   ]
  },
  {
   "cell_type": "markdown",
   "metadata": {},
   "source": [
    "<p>Use the test set to create the model's predictions. Name the prediction vector y_pred as in previous notebooks. </p>"
   ]
  },
  {
   "cell_type": "markdown",
   "metadata": {},
   "source": [
    "#### Enter your code in the cell below:"
   ]
  },
  {
   "cell_type": "code",
   "execution_count": null,
   "metadata": {},
   "outputs": [],
   "source": []
  },
  {
   "cell_type": "markdown",
   "metadata": {},
   "source": [
    "## 20) TO DO: Evaluate the Logistic Regression Model's Performance\n",
    "<p> Use SciKit Learn's built-in scoring method to evaluate the model's performance accuracy.</p>"
   ]
  },
  {
   "cell_type": "markdown",
   "metadata": {},
   "source": [
    "#### Enter your code below:"
   ]
  },
  {
   "cell_type": "code",
   "execution_count": null,
   "metadata": {},
   "outputs": [],
   "source": []
  },
  {
   "cell_type": "markdown",
   "metadata": {},
   "source": [
    "### Predicting class-membership probabilities using the Logistic Regression Model"
   ]
  },
  {
   "cell_type": "markdown",
   "metadata": {},
   "source": [
    "## 21) TO DO:class-membership probability\n",
    "\n",
    "<p> Predict the class membership probability by using the a row with index = 10 from the X_test_std data. Make sure your print statement uses a complete sentence and be sure tocompare your prediction with the correct answer using the corresponding row from the test set labels, y_test.Enter your code in the cell below </p>"
   ]
  },
  {
   "cell_type": "markdown",
   "metadata": {},
   "source": [
    "#### Enter your code in the cell below"
   ]
  },
  {
   "cell_type": "code",
   "execution_count": null,
   "metadata": {},
   "outputs": [],
   "source": []
  },
  {
   "cell_type": "markdown",
   "metadata": {},
   "source": [
    "## 22) TO DO:class-membership probability\n",
    "\n",
    "<p> Predict the class membership probability by using the a row with index = 130 from the X_test_std data. Make sure your print statement uses a complete sentence and be sure tocompare your prediction with the correct answer using the corresponding row from the test set labels, y_test.</p>\n",
    "\n",
    "#### Enter your code in the cell below."
   ]
  },
  {
   "cell_type": "code",
   "execution_count": null,
   "metadata": {},
   "outputs": [],
   "source": []
  },
  {
   "cell_type": "markdown",
   "metadata": {},
   "source": [
    "## 23) TO DO:class-membership probability\n",
    "\n",
    "<p> Predict the class membership probability by using the a row with index = 200 from the X_test_std data. Make sure your print statement uses a complete sentence and be sure tocompare your prediction with the correct answer using the corresponding row from the test set labels, y_test.</p>\n",
    "\n",
    "#### Enter your code in the cell below."
   ]
  },
  {
   "cell_type": "code",
   "execution_count": null,
   "metadata": {},
   "outputs": [],
   "source": []
  },
  {
   "cell_type": "markdown",
   "metadata": {},
   "source": [
    "<h2 style=\"color:green;\">Build Linear Support Vector Classifier Model</h2>  \n",
    "\n",
    "## 24) TO DO:scikit-learn Linear Support Vector Classifier for this lab\n",
    "\n",
    "#### Import and instantiate the Linear Support Vector Classifier Model in SciKit-Learn is in the cell below"
   ]
  },
  {
   "cell_type": "code",
   "execution_count": null,
   "metadata": {},
   "outputs": [],
   "source": []
  },
  {
   "cell_type": "markdown",
   "metadata": {},
   "source": [
    "## 25) TO DO: Train the model by calling the model's fit function\n",
    "\n",
    "#### Now that the model has been instantiated (created) it still needs to be trained (fitted) to the training dataset. Enter your code below to fit the model to the training dataset"
   ]
  },
  {
   "cell_type": "code",
   "execution_count": null,
   "metadata": {},
   "outputs": [],
   "source": []
  },
  {
   "cell_type": "markdown",
   "metadata": {},
   "source": [
    "## 26) TO DO: Evaluate the Linear Suport Vector Classifier Model\n",
    "<p> Use the test set to create the model's predictions. Name the prediction vector y_pred as in previous notebooks.</p>\n",
    "\n",
    "#### Enter your code in the cell below:"
   ]
  },
  {
   "cell_type": "code",
   "execution_count": null,
   "metadata": {},
   "outputs": [],
   "source": []
  },
  {
   "cell_type": "markdown",
   "metadata": {},
   "source": [
    "## 27) TO DO: Evaluate the Linear Suport Vector Model's Performance\n",
    "\n",
    "<p> Use SciKit Learn's built-in scoring method to evaluate the model's performance accuracy.</p>\n",
    "\n",
    "#### Enter your code below:"
   ]
  },
  {
   "cell_type": "code",
   "execution_count": null,
   "metadata": {},
   "outputs": [],
   "source": []
  },
  {
   "cell_type": "markdown",
   "metadata": {},
   "source": [
    "## 28) TO DO: Using the Predict Method of the Linear Suport Vector Model\n",
    "\n",
    "<p> Use SciKit Learn's built-in predict method to test the model's predictive performance for the first row of data in X_test_std </p>\n",
    "\n",
    "#### Enter your code below"
   ]
  },
  {
   "cell_type": "code",
   "execution_count": null,
   "metadata": {},
   "outputs": [],
   "source": []
  },
  {
   "cell_type": "markdown",
   "metadata": {},
   "source": [
    "## 29) TO DO:Print the number of misclassifications using numpy"
   ]
  },
  {
   "cell_type": "code",
   "execution_count": null,
   "metadata": {},
   "outputs": [],
   "source": []
  },
  {
   "cell_type": "markdown",
   "metadata": {},
   "source": [
    "<h2 style=\"color:green;\">Confusion Matrixl</h2>  "
   ]
  },
  {
   "cell_type": "markdown",
   "metadata": {},
   "source": [
    "<p> Supervised learner models are designed to classify, estimate, and/or predict future outcome. For some applications the desire is to build models showing consistently high predictive accuracy. </p>\n",
    "\n",
    "### Classification Correctness:\n",
    "\n",
    "<p> Classification correctness is best calculated by presenting previously unseen data in the form of a test set to the model being evaluated. Test set model accuracy can be summarized ina table known as a confusion matrix. To illustrate, let’s suppose we have three possible classes: C1, C2, and C3. A generic confusion matrix for the three class case is shown in Table 1. </p>"
   ]
  },
  {
   "cell_type": "markdown",
   "metadata": {},
   "source": [
    "<ul> \n",
    "    <li> Values along the main diagonal give the total number of correct classifications for each class </li>\n",
    "</ul>\n",
    "<h4 align=\"center\"> For example, a value of 15 for C11 means that 15 class C1 test set instances were correctly classified. </h4>\n",
    "\n",
    "<ul> \n",
    "    <li> Values other than those on the main diagonal represent classification errors. </li>\n",
    "</ul>\n",
    "<h4 align=\"center\"> To illustrate, suppose C12 has the value 4. This means that four class C1 instances were incorrectly classified as belonging to class C2. The following three rulesmay be helpful in analyzing the information in a confusion matrix:. </h4>\n"
   ]
  },
  {
   "cell_type": "markdown",
   "metadata": {},
   "source": [
    "### Rules for the Three-Class Confusion Matrix\n",
    "<ul>\n",
    "<li> Rule 1. Values along the main diagonal represent correct classifications. For the matrix in Table 1,the value C11 represents the total number of class C1 instances correctlyclassified by the model. A similar statement can be made for the values C22 and C33. </li>\n",
    "\n",
    "<li> Rule 2. Values in row Ci represent those instances that belong to class Ci. For example, with i = 2,the instances associated with cells C21, C22, and C23 are all actually membersof C2. To find the total number of C2 instances incorrectly classified as members of another class, we compute the sum of C21 and C23. </li>\n",
    "\n",
    "<li> Rule 3. Values found in column Ci indicate those instances that have been classified as members of Ci. With i = 2,the instances associated with cells C12, C22, and C32 have beenclassified as members of class C2.To find the total number of instances incorrectly classified as members of class C2, we compute the sum of C12 and C32. </li>\n",
    "    \n",
    "</ul>"
   ]
  },
  {
   "cell_type": "markdown",
   "metadata": {},
   "source": [
    "<img src=\"images/matrix.png\" width=\"500\" height=\"500\" align=\"center\"/>"
   ]
  },
  {
   "cell_type": "markdown",
   "metadata": {},
   "source": [
    "## 30) TO DO: Compute the Confusion Matrix for the Linear Suport Vector Model\n",
    "\n",
    "<p> Use SciKit Learn's metrics module to compute the model's confusion matrix.</p>\n",
    "\n",
    "#### Enter your code below:"
   ]
  },
  {
   "cell_type": "code",
   "execution_count": null,
   "metadata": {},
   "outputs": [],
   "source": []
  },
  {
   "cell_type": "markdown",
   "metadata": {},
   "source": [
    "## 31)TO DO: Classification Correctness\n",
    "\n",
    "<p> Based on the output of your confusion matrix, what was the total number of correct classifications of Substance 2?</p>\n",
    "\n",
    "#### Enter your answer as markdown in the cell below:\n",
    "<p> Type Markdown and LaTeX: 𝛼2 </p> \n",
    "\n",
    "## 32) TO DO: Compute the Classification report for Linear Suport Vector Model\n",
    "\n",
    "<p> Use SciKit Learn's metrics module to compute the model's classification report.</p>\n",
    "\n",
    "#### Enter your code below:"
   ]
  },
  {
   "cell_type": "code",
   "execution_count": null,
   "metadata": {},
   "outputs": [],
   "source": []
  },
  {
   "cell_type": "markdown",
   "metadata": {},
   "source": [
    "## 33) TO DO: Classification Report\n",
    "\n",
    "<p> Based on the output of your classification report, out of all the times Substance 1 should have been predicted, what percentage of times was it correctly predicted? </p>\n",
    "<p>Which performance score did you use to evaluate the performance of the model(s) from the confusion matrix /classification report? (HINT: You may need to research the meaning anddifference between precision, recall and f1-score)</p>\n",
    "\n",
    "#### Enter your answer as markdown in the cell below:\n",
    "\n",
    "<p> Type Markdown and LaTeX: </p>"
   ]
  },
  {
   "cell_type": "markdown",
   "metadata": {},
   "source": [
    "<h2 style=\"color:green;\">Statistics for evaluating the Performance of Machine Learning Models </h2> "
   ]
  },
  {
   "cell_type": "markdown",
   "metadata": {},
   "source": [
    "<p> We can compare two supervised machine learning models using the same training dataset by applying the classical hypothesis testing paradigm. Our measure of model performance isthe test-set error rate. Below, we state the problem in the form of a null hypothesis. </p>\n",
    "<h4 align=\"center\"> There is no significant difference in the test set error rate of two supervised machine learning models,  and , built with the same training dataset. </h4>\n",
    "<p> Although there are several possible test set scenarios we can use, we will take the approach that allows us to compare performance between models when: </p>\n",
    "\n",
    "<ul>\n",
    "    <li>the same test dataset is used to compare the models, and </li>\n",
    "    <li> the comparison is is based on the overall classsification correctness of the models.</li>\n",
    "</ul>\n",
    "<p> While this is a simple approach, it would perhaps be more straight forward to compare model performance using two independent testing datasets selected randomly from a a poolof sample data. However, this approach is feasible only if there is a large supply of data available from which random test sets can be extracted. Thus, when smaller-sized datasets areall we have to work with, a single test set used on both models is probably the only possibility. </p>"
   ]
  },
  {
   "cell_type": "markdown",
   "metadata": {},
   "source": [
    "### Comparing Models with Independent Test Data "
   ]
  },
  {
   "cell_type": "markdown",
   "metadata": {},
   "source": [
    "<p> The simpler approach that we will take is to use a technique that compares the overall classification correctness of the models. It shoud be noted that this method is equally valid wheterwe have two independent test datasets or only a single dataset to use with both models. </p>\n",
    "\n",
    "<p> The most general form of the statistic for comparing the performnce of two classifier modesl $M_{1}$ and $M_{2}$ is\n",
    "</p>"
   ]
  },
  {
   "cell_type": "markdown",
   "metadata": {},
   "source": [
    "$$ P = /frac{|E_{1} - E_{2}|}/{\\sqrt{x^2 + y^2}x2+y2} $$\n"
   ]
  },
  {
   "cell_type": "code",
   "execution_count": null,
   "metadata": {},
   "outputs": [],
   "source": []
  },
  {
   "cell_type": "code",
   "execution_count": null,
   "metadata": {},
   "outputs": [],
   "source": []
  }
 ],
 "metadata": {
  "kernelspec": {
   "display_name": "Python 3",
   "language": "python",
   "name": "python3"
  },
  "language_info": {
   "codemirror_mode": {
    "name": "ipython",
    "version": 3
   },
   "file_extension": ".py",
   "mimetype": "text/x-python",
   "name": "python",
   "nbconvert_exporter": "python",
   "pygments_lexer": "ipython3",
   "version": "3.8.5"
  }
 },
 "nbformat": 4,
 "nbformat_minor": 4
}
